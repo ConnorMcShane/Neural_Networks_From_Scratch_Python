{
 "metadata": {
  "language_info": {
   "codemirror_mode": {
    "name": "ipython",
    "version": 3
   },
   "file_extension": ".py",
   "mimetype": "text/x-python",
   "name": "python",
   "nbconvert_exporter": "python",
   "pygments_lexer": "ipython3",
   "version": "3.8.5-final"
  },
  "orig_nbformat": 2,
  "kernelspec": {
   "name": "python3",
   "display_name": "Python 3",
   "language": "python"
  }
 },
 "nbformat": 4,
 "nbformat_minor": 2,
 "cells": [
  {
   "source": [
    "# Neural Network From Scratch\n",
    "## imports"
   ],
   "cell_type": "markdown",
   "metadata": {}
  },
  {
   "source": [
    "import numpy as np\n",
    "np.core.arrayprint._line_width = 80"
   ],
   "cell_type": "code",
   "metadata": {},
   "execution_count": 19,
   "outputs": []
  },
  {
   "source": [
    "## data"
   ],
   "cell_type": "markdown",
   "metadata": {}
  },
  {
   "cell_type": "code",
   "execution_count": 20,
   "metadata": {},
   "outputs": [],
   "source": [
    "def spiral_data(points, classes):\n",
    "    X = np.zeros((points*classes, 2))\n",
    "    y = np.zeros(points*classes, dtype='uint8')\n",
    "    for class_number in range(classes):\n",
    "        ix = range(points*class_number, points*(class_number+1))\n",
    "        r = np.linspace(0.0, 1, points)  # radius\n",
    "        t = np.linspace(class_number*4, (class_number+1)*4, points) + np.random.randn(points)*0.2\n",
    "        X[ix] = np.c_[r*np.sin(t*2.5), r*np.cos(t*2.5)]\n",
    "        y[ix] = class_number\n",
    "    return X, y"
   ]
  },
  {
   "source": [
    "## layers"
   ],
   "cell_type": "markdown",
   "metadata": {}
  },
  {
   "cell_type": "code",
   "execution_count": 25,
   "metadata": {},
   "outputs": [],
   "source": [
    "class Activation:\n",
    "    def __init__(self, activation):\n",
    "        self.activation = activation\n",
    "    \n",
    "    def forward(self, x):\n",
    "        if self.activation == 'step':\n",
    "            self.output = np.sign(x)\n",
    "\n",
    "        if self.activation == 'linear':\n",
    "            self.output = x\n",
    "\n",
    "        if self.activation == 'sigmoid':\n",
    "            self.output = np.sin(x)\n",
    "\n",
    "        if self.activation == 'relu':\n",
    "            self.output = np.maximum(0, x)\n",
    "        \n",
    "        if self.activation == 'softmax':\n",
    "            exp_values = np.exp(x - np.max(x, axis=1, keepdims=True))\n",
    "            prob_values = exp_values/np.sum(exp_values, axis=1, keepdims=True)\n",
    "            self.output = prob_values"
   ]
  },
  {
   "cell_type": "code",
   "execution_count": 23,
   "metadata": {},
   "outputs": [],
   "source": [
    "class Dense:\n",
    "    def __init__(self, n_inputs, n_neurons):\n",
    "        self.weights = 0.10 * np.random.randn(n_inputs, n_neurons)\n",
    "        self.biases = np.zeros((1, n_neurons))\n",
    "\n",
    "\n",
    "    def forward(self, inputs):\n",
    "        self.output = np.dot(inputs, self.weights) + self.biases"
   ]
  },
  {
   "cell_type": "code",
   "execution_count": 8,
   "metadata": {},
   "outputs": [],
   "source": [
    "def process_layer(inputs, weights, biases):\n",
    "    #return np.dot(np.array(weights).T, inputs) + bias\n",
    "    return np.dot(inputs, np.array(weights).T) + biases\n",
    "\n",
    "def initialise_weights(layer_sizes, input_size=None):\n",
    "    if input_size != None:\n",
    "        layer_sizes.insert(0,input_size)\n",
    "    \n",
    "    weights = []\n",
    "    for i in range(len(layer_sizes)):\n",
    "        if i == 0:\n",
    "            continue\n",
    "        weights.append(np.random.randn(layer_sizes[i], layer_sizes[i-1]))\n",
    "\n",
    "    return weights"
   ]
  },
  {
   "source": [
    "## loss functions"
   ],
   "cell_type": "markdown",
   "metadata": {}
  },
  {
   "cell_type": "code",
   "execution_count": null,
   "metadata": {},
   "outputs": [],
   "source": [
    "# categorical cross-entropy\n"
   ]
  },
  {
   "source": [
    "## implementation"
   ],
   "cell_type": "markdown",
   "metadata": {}
  },
  {
   "cell_type": "code",
   "execution_count": 30,
   "metadata": {},
   "outputs": [
    {
     "output_type": "stream",
     "name": "stdout",
     "text": [
      "[[0.33333333 0.33333333 0.33333333]\n [0.33331734 0.33331832 0.33336434]\n [0.3332888  0.33329153 0.33341967]\n [0.33325941 0.33326395 0.33347665]\n [0.33323311 0.33323926 0.33352763]]\n"
     ]
    }
   ],
   "source": [
    "np.random.seed(0)\n",
    "X, y = spiral_data(100, 3)\n",
    "\n",
    "dense1 = Dense(2, 3)\n",
    "activation1 = Activation('relu')\n",
    "\n",
    "dense2 = Dense(3, 3)\n",
    "activation2 = Activation('softmax')\n",
    "\n",
    "dense1.forward(X)\n",
    "activation1.forward(dense1.output)\n",
    "\n",
    "dense2.forward(activation1.output)\n",
    "activation2.forward(dense2.output)\n",
    "\n",
    "print(activation2.output[:5])\n"
   ]
  },
  {
   "cell_type": "code",
   "execution_count": 36,
   "metadata": {},
   "outputs": [
    {
     "output_type": "stream",
     "name": "stdout",
     "text": [
      "0.35667494393873245\n"
     ]
    }
   ],
   "source": [
    "softmax_output = [0.7, 0.1, 0.2]\n",
    "target_output = [1, 0, 0]\n",
    "\n",
    "loss = -(math.log(softmax_output[0]))\n",
    "\n",
    "print(loss)"
   ]
  },
  {
   "cell_type": "code",
   "execution_count": null,
   "metadata": {},
   "outputs": [],
   "source": []
  }
 ]
}